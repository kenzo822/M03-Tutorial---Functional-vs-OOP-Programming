{
 "cells": [
  {
   "cell_type": "code",
   "execution_count": 1,
   "id": "79b9b084",
   "metadata": {},
   "outputs": [
    {
     "name": "stdout",
     "output_type": "stream",
     "text": [
      "[1, 4, 9]\n",
      "[(10, -1), (0, 2), (5, 2), (9, 9)]\n"
     ]
    }
   ],
   "source": [
    "print(list(map(lambda num: num**2, [1,2,3])))\n",
    "\n",
    "a = [(0, 2), (5, 2), (9, 9), (10, -1)]\n",
    "a.sort(key=lambda x: x[1])\n",
    "\n",
    "print(a)"
   ]
  },
  {
   "cell_type": "code",
   "execution_count": null,
   "id": "11524069",
   "metadata": {},
   "outputs": [],
   "source": []
  }
 ],
 "metadata": {
  "kernelspec": {
   "display_name": "Python 3 (ipykernel)",
   "language": "python",
   "name": "python3"
  },
  "language_info": {
   "codemirror_mode": {
    "name": "ipython",
    "version": 3
   },
   "file_extension": ".py",
   "mimetype": "text/x-python",
   "name": "python",
   "nbconvert_exporter": "python",
   "pygments_lexer": "ipython3",
   "version": "3.11.4"
  }
 },
 "nbformat": 4,
 "nbformat_minor": 5
}
